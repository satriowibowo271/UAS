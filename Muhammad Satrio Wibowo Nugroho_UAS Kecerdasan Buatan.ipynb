{
  "metadata": {
    "kernelspec": {
      "name": "python",
      "display_name": "Python (Pyodide)",
      "language": "python"
    },
    "language_info": {
      "codemirror_mode": {
        "name": "python",
        "version": 3
      },
      "file_extension": ".py",
      "mimetype": "text/x-python",
      "name": "python",
      "nbconvert_exporter": "python",
      "pygments_lexer": "ipython3",
      "version": "3.8"
    }
  },
  "nbformat_minor": 4,
  "nbformat": 4,
  "cells": [
    {
      "cell_type": "code",
      "source": "import numpy as np\n\n# Definisi Fungsi Keanggotaan Manual\n\ndef trapmf(x, a, b, c, d):\n    if b == a or d == c:\n        return np.zeros_like(x)  # Hindari pembagian nol\n    return np.maximum(0, np.minimum((x - a) / (b - a), np.minimum(1, (d - x) / (d - c))))\n\ndef trimf(x, a, b, c):\n    if b == a or c == b:\n        return np.zeros_like(x)  # Hindari pembagian nol\n    return np.maximum(0, np.minimum((x - a) / (b - a), (c - x) / (c - b)))\n\n# Variabel Input dan Output\nsuhu_universe = np.arange(0, 51, 1)\nkelembapan_universe = np.arange(0, 101, 1)\nbahaya_universe = np.arange(0, 101, 1)\n\nsuhu_rendah = trapmf(suhu_universe, 0, 0, 15, 25)\nsuhu_sedang = trimf(suhu_universe, 15, 25, 35)\nsuhu_tinggi = trapmf(suhu_universe, 25, 35, 50, 50)\n\nkelembapan_rendah = trapmf(kelembapan_universe, 0, 0, 30, 50)\nkelembapan_sedang = trimf(kelembapan_universe, 30, 50, 70)\nkelembapan_tinggi = trapmf(kelembapan_universe, 50, 70, 100, 100)\n\nbahaya_rendah = trimf(bahaya_universe, 0, 0, 50)\nbahaya_sedang = trimf(bahaya_universe, 25, 50, 75)\nbahaya_tinggi = trimf(bahaya_universe, 50, 100, 100)\n\n# Fungsi Agregasi Aturan\n\ndef inferensi(suhu, kelembapan):\n    # Aturan Fuzzy\n    rendah = np.fmin(trapmf(suhu, 0, 0, 15, 25), trapmf(kelembapan, 50, 70, 100, 100))\n    sedang = np.fmin(trimf(suhu, 15, 25, 35), trimf(kelembapan, 30, 50, 70))\n    tinggi = np.fmax(trapmf(suhu, 25, 35, 50, 50), trapmf(kelembapan, 0, 0, 30, 50))\n\n    # Output dari Aturan\n    output_rendah = np.fmin(rendah, bahaya_rendah)\n    output_sedang = np.fmin(sedang, bahaya_sedang)\n    output_tinggi = np.fmin(tinggi, bahaya_tinggi)\n\n    # Kombinasi\n    aggregated = np.fmax(output_rendah, np.fmax(output_sedang, output_tinggi))\n    return aggregated\n\n# Defuzzifikasi\n\ndef defuzzifikasi(aggregated, universe):\n    if np.sum(aggregated) == 0:\n        return 0  # Hindari pembagian nol jika agregasi kosong\n    return np.sum(aggregated * universe) / np.sum(aggregated)\n\n# Input Data\ninput_suhu = 30\ninput_kelembapan = 40\n\n# Proses Inferensi\naggregated_output = inferensi(input_suhu, input_kelembapan)\noutput_bahaya = defuzzifikasi(aggregated_output, bahaya_universe)\n\nprint(f\"Tingkat bahaya kebakaran: {output_bahaya:.2f}\")\n",
      "metadata": {
        "trusted": true
      },
      "outputs": [
        {
          "name": "stdout",
          "text": "Tingkat bahaya kebakaran: 50.00\n",
          "output_type": "stream"
        }
      ],
      "execution_count": 1
    },
    {
      "cell_type": "code",
      "source": "",
      "metadata": {
        "trusted": true
      },
      "outputs": [],
      "execution_count": null
    }
  ]
}