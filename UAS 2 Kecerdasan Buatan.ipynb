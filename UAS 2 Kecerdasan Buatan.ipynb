{
  "metadata": {
    "kernelspec": {
      "name": "python",
      "display_name": "Python (Pyodide)",
      "language": "python"
    },
    "language_info": {
      "codemirror_mode": {
        "name": "python",
        "version": 3
      },
      "file_extension": ".py",
      "mimetype": "text/x-python",
      "name": "python",
      "nbconvert_exporter": "python",
      "pygments_lexer": "ipython3",
      "version": "3.8"
    }
  },
  "nbformat_minor": 4,
  "nbformat": 4,
  "cells": [
    {
      "cell_type": "code",
      "source": "",
      "metadata": {
        "trusted": true
      },
      "outputs": [],
      "execution_count": null
    },
    {
      "cell_type": "code",
      "source": "import numpy as np\n\n# Definisi Fungsi Keanggotaan Manual\n\ndef trapmf(x, a, b, c, d):\n    if b == a or d == c:\n        return np.zeros_like(x)  # Hindari pembagian nol\n    return np.maximum(0, np.minimum((x - a) / (b - a), np.minimum(1, (d - x) / (d - c))))\n\ndef trimf(x, a, b, c):\n    if b == a or c == b:\n        return np.zeros_like(x)  # Hindari pembagian nol\n    return np.maximum(0, np.minimum((x - a) / (b - a), (c - x) / (c - b)))\n\n# Variabel Input dan Output\njumlah_pembelian_universe = np.arange(0, 101, 1)\nfrekuensi_pelanggan_universe = np.arange(0, 11, 1)\ndiskon_universe = np.arange(0, 51, 1)\n\njumlah_pembelian_rendah = trapmf(jumlah_pembelian_universe, 0, 0, 20, 40)\njumlah_pembelian_sedang = trimf(jumlah_pembelian_universe, 20, 50, 80)\njumlah_pembelian_tinggi = trapmf(jumlah_pembelian_universe, 60, 80, 100, 100)\n\nfrekuensi_pelanggan_rendah = trapmf(frekuensi_pelanggan_universe, 0, 0, 2, 4)\nfrekuensi_pelanggan_sedang = trimf(frekuensi_pelanggan_universe, 2, 5, 8)\nfrekuensi_pelanggan_tinggi = trapmf(frekuensi_pelanggan_universe, 6, 8, 10, 10)\n\n\ndiskon_kecil = trimf(diskon_universe, 0, 0, 25)\ndiskon_sedang = trimf(diskon_universe, 10, 25, 40)\ndiskon_besar = trimf(diskon_universe, 25, 50, 50)\n\n# Fungsi Agregasi Aturan\n\ndef inferensi(jumlah_pembelian, frekuensi_pelanggan):\n    # Aturan Fuzzy\n    kecil = np.fmin(trapmf(jumlah_pembelian, 0, 0, 20, 40), trapmf(frekuensi_pelanggan, 0, 0, 2, 4))\n    sedang = np.fmin(trimf(jumlah_pembelian, 20, 50, 80), trimf(frekuensi_pelanggan, 2, 5, 8))\n    besar = np.fmax(trapmf(jumlah_pembelian, 60, 80, 100, 100), trapmf(frekuensi_pelanggan, 6, 8, 10, 10))\n\n    # Output dari Aturan\n    output_kecil = np.fmin(kecil, diskon_kecil)\n    output_sedang = np.fmin(sedang, diskon_sedang)\n    output_besar = np.fmin(besar, diskon_besar)\n\n    # Kombinasi\n    aggregated = np.fmax(output_kecil, np.fmax(output_sedang, output_besar))\n    return aggregated\n\n# Defuzzifikasi\n\ndef defuzzifikasi(aggregated, universe):\n    if np.sum(aggregated) == 0:\n        return 0  # Hindari pembagian nol jika agregasi kosong\n    return np.sum(aggregated * universe) / np.sum(aggregated)\n\n# Input Data\ninput_jumlah_pembelian = 70\ninput_frekuensi_pelanggan = 6\n\n# Proses Inferensi\naggregated_output = inferensi(input_jumlah_pembelian, input_frekuensi_pelanggan)\noutput_diskon = defuzzifikasi(aggregated_output, diskon_universe)\n\nprint(f\"Tingkat diskon: {output_diskon:.2f}%\")\n",
      "metadata": {
        "trusted": true
      },
      "outputs": [
        {
          "name": "stdout",
          "text": "Tingkat diskon: 25.00%\n",
          "output_type": "stream"
        }
      ],
      "execution_count": 3
    },
    {
      "cell_type": "code",
      "source": "",
      "metadata": {
        "trusted": true
      },
      "outputs": [],
      "execution_count": null
    }
  ]
}